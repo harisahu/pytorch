{
 "cells": [
  {
   "cell_type": "markdown",
   "id": "c1451534",
   "metadata": {},
   "source": [
    "# Tensor"
   ]
  },
  {
   "cell_type": "markdown",
   "id": "423d2977",
   "metadata": {},
   "source": [
    "Here are the basic types of tensors along with their dimensions and some of their common operations:\n",
    "\n",
    "1. Scalar (0D Tensor):\n",
    "    A scalar tensor is a single value with no dimensions.\n",
    "    Example: 5, -3.14\n",
    "    Operations: Scalars are used as the base elements for mathematical operations.\n",
    "\n",
    "2. 1D Tensor (Vector):\n",
    "    A 1D tensor, often referred to as a vector, has one dimension.\n",
    "    Example: [1, 2, 3, 4, 5]\n",
    "    Operations: You can perform vector addition, subtraction, element-wise multiplication, and more.\n",
    "\n",
    "3. 2D Tensor (Matrix):\n",
    "    A 2D tensor, or matrix, has two dimensions: rows and columns.\n",
    "    Example:\n",
    "    [\n",
    "      [1, 2, 3],\n",
    "      [4, 5, 6],\n",
    "      [7, 8, 9]\n",
    "    ]\n",
    "    Operations: Matrix multiplication, element-wise operations, transposition, and more.\n",
    "\n",
    "3. 3D Tensor:\n",
    "    A 3D tensor has three dimensions: depth, rows, and columns.\n",
    "    Example:\n",
    "    [\n",
    "      [\n",
    "        [1, 2, 3],\n",
    "        [4, 5, 6]\n",
    "      ],\n",
    "      [\n",
    "        [7, 8, 9],\n",
    "        [10, 11, 12]\n",
    "      ]\n",
    "    ]\n",
    "    Operations: Used for operations involving 3D data, such as RGB images or time series data.\n",
    "\n",
    "Common operations on tensors include:\n",
    "1. Element-wise Operations: Operations performed independently on each element of a tensor.\n",
    "2. Matrix Multiplication: Computing the dot product of two matrices.\n",
    "3. Transpose: Flipping a matrix along its main diagonal.\n",
    "4. Indexing and Slicing: Accessing specific elements or sub-tensors within a tensor.\n",
    "5. Reshaping: Changing the shape of a tensor while maintaining the same number of elements.\n",
    "6. Reduction Operations: Calculating statistics like sum, mean, min, max along certain dimensions.\n",
    "7. Broadcasting: Implicitly expanding tensors of smaller shape to match the shape of larger tensors."
   ]
  },
  {
   "cell_type": "code",
   "execution_count": 36,
   "id": "fd554bf5",
   "metadata": {},
   "outputs": [
    {
     "name": "stdout",
     "output_type": "stream",
     "text": [
      "torch.Size([100, 2])\n",
      "tensor([1., 1.])\n",
      "torch.Size([2, 2])\n",
      "tensor([1., 1.])\n"
     ]
    }
   ],
   "source": [
    "#2d tensor\n",
    "x = torch.ones(100,2)\n",
    "print(x.shape)\n",
    "print(x[1])\n",
    "\n",
    "y = torch.ones(2,2)\n",
    "print(y.shape)\n",
    "print(y[1])"
   ]
  },
  {
   "cell_type": "markdown",
   "id": "ebf42762",
   "metadata": {},
   "source": [
    "### Derivatives of tensor"
   ]
  },
  {
   "cell_type": "code",
   "execution_count": 23,
   "id": "81445402",
   "metadata": {},
   "outputs": [],
   "source": [
    "import torch\n",
    "import matplotlib.pylab as plt"
   ]
  },
  {
   "cell_type": "markdown",
   "id": "ecbfa431",
   "metadata": {},
   "source": [
    "this requires_grad parameter will tell pytorch that we would be using evaluating functions and derivatives of x using this value of x."
   ]
  },
  {
   "cell_type": "code",
   "execution_count": 14,
   "id": "0b21ab09",
   "metadata": {},
   "outputs": [],
   "source": [
    "x = torch.tensor(2.0, requires_grad= True)"
   ]
  },
  {
   "cell_type": "code",
   "execution_count": 4,
   "id": "7d382bcb",
   "metadata": {},
   "outputs": [],
   "source": [
    "y=x**2"
   ]
  },
  {
   "cell_type": "code",
   "execution_count": 5,
   "id": "313f06e3",
   "metadata": {},
   "outputs": [],
   "source": [
    "y.backward()"
   ]
  },
  {
   "cell_type": "code",
   "execution_count": 7,
   "id": "7cbbab33",
   "metadata": {},
   "outputs": [
    {
     "data": {
      "text/plain": [
       "tensor(4.)"
      ]
     },
     "execution_count": 7,
     "metadata": {},
     "output_type": "execute_result"
    }
   ],
   "source": [
    "x.grad"
   ]
  },
  {
   "cell_type": "code",
   "execution_count": 8,
   "id": "ed94417b",
   "metadata": {},
   "outputs": [],
   "source": [
    "z = x**2 + 2*x + 1"
   ]
  },
  {
   "cell_type": "code",
   "execution_count": 9,
   "id": "20c7424e",
   "metadata": {},
   "outputs": [],
   "source": [
    "z.backward()"
   ]
  },
  {
   "cell_type": "code",
   "execution_count": 10,
   "id": "0aa713a3",
   "metadata": {},
   "outputs": [
    {
     "data": {
      "text/plain": [
       "tensor(10.)"
      ]
     },
     "execution_count": 10,
     "metadata": {},
     "output_type": "execute_result"
    }
   ],
   "source": [
    "x.grad"
   ]
  },
  {
   "cell_type": "markdown",
   "id": "7960980a",
   "metadata": {},
   "source": [
    "### Partial Derivatives"
   ]
  },
  {
   "cell_type": "code",
   "execution_count": 16,
   "id": "6f7d148b",
   "metadata": {},
   "outputs": [],
   "source": [
    "u = torch.tensor(1.0, requires_grad= True)\n",
    "v = torch.tensor(2.0, requires_grad= True)"
   ]
  },
  {
   "cell_type": "code",
   "execution_count": 17,
   "id": "05c54bc8",
   "metadata": {},
   "outputs": [],
   "source": [
    "f= u*v + u**2"
   ]
  },
  {
   "cell_type": "code",
   "execution_count": 18,
   "id": "e0897343",
   "metadata": {},
   "outputs": [],
   "source": [
    "f.backward()"
   ]
  },
  {
   "cell_type": "code",
   "execution_count": 19,
   "id": "7c715c33",
   "metadata": {},
   "outputs": [
    {
     "data": {
      "text/plain": [
       "tensor(4.)"
      ]
     },
     "execution_count": 19,
     "metadata": {},
     "output_type": "execute_result"
    }
   ],
   "source": [
    "u.grad"
   ]
  },
  {
   "cell_type": "code",
   "execution_count": 20,
   "id": "73c78ab2",
   "metadata": {},
   "outputs": [
    {
     "data": {
      "text/plain": [
       "tensor(1.)"
      ]
     },
     "execution_count": 20,
     "metadata": {},
     "output_type": "execute_result"
    }
   ],
   "source": [
    "v.grad"
   ]
  },
  {
   "cell_type": "markdown",
   "id": "dba98097",
   "metadata": {},
   "source": [
    "### Differentiation wrt x at multiple values"
   ]
  },
  {
   "cell_type": "code",
   "execution_count": 26,
   "id": "c7522c5e",
   "metadata": {},
   "outputs": [
    {
     "data": {
      "text/plain": [
       "tensor([-20.0000, -17.8947, -15.7895, -13.6842, -11.5789,  -9.4737,  -7.3684,\n",
       "         -5.2632,  -3.1579,  -1.0526,   1.0526,   3.1579,   5.2632,   7.3684,\n",
       "          9.4737,  11.5789,  13.6842,  15.7895,  17.8947,  20.0000])"
      ]
     },
     "execution_count": 26,
     "metadata": {},
     "output_type": "execute_result"
    }
   ],
   "source": [
    "x= torch.linspace(-10, 10, 20, requires_grad= True)\n",
    "y= torch.sum(x**2)\n",
    "y.backward()\n",
    "x.grad"
   ]
  }
 ],
 "metadata": {
  "kernelspec": {
   "display_name": "Python 3 (ipykernel)",
   "language": "python",
   "name": "python3"
  },
  "language_info": {
   "codemirror_mode": {
    "name": "ipython",
    "version": 3
   },
   "file_extension": ".py",
   "mimetype": "text/x-python",
   "name": "python",
   "nbconvert_exporter": "python",
   "pygments_lexer": "ipython3",
   "version": "3.9.7"
  }
 },
 "nbformat": 4,
 "nbformat_minor": 5
}
